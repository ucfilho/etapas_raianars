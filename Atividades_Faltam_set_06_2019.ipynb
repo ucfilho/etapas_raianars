{
  "nbformat": 4,
  "nbformat_minor": 0,
  "metadata": {
    "colab": {
      "name": "Atividades_Faltam_set_06_2019.ipynb",
      "version": "0.3.2",
      "provenance": [],
      "collapsed_sections": [],
      "include_colab_link": true
    },
    "kernelspec": {
      "name": "python3",
      "display_name": "Python 3"
    }
  },
  "cells": [
    {
      "cell_type": "markdown",
      "metadata": {
        "id": "view-in-github",
        "colab_type": "text"
      },
      "source": [
        "<a href=\"https://colab.research.google.com/github/ucfilho/etapas_raianars/blob/master/Atividades_Faltam_set_06_2019.ipynb\" target=\"_parent\"><img src=\"https://colab.research.google.com/assets/colab-badge.svg\" alt=\"Open In Colab\"/></a>"
      ]
    },
    {
      "cell_type": "code",
      "metadata": {
        "id": "x-SOr4TDslHj",
        "colab_type": "code",
        "colab": {}
      },
      "source": [
        "# tarefas\n",
        "# vel cr e f\n",
        "# Implementar a variacao de np e parametros com  novo metodo \n",
        "# Implementar o indice de sucesso\n",
        "# Implementar a rede\n",
        "# colocar informacoes para registro"
      ],
      "execution_count": 0,
      "outputs": []
    }
  ]
}