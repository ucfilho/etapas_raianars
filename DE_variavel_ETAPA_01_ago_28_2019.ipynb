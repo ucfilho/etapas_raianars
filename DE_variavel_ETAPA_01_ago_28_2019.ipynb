{
  "nbformat": 4,
  "nbformat_minor": 0,
  "metadata": {
    "colab": {
      "name": "DE_variavel_ETAPA_01_ago_28_2019.ipynb",
      "version": "0.3.2",
      "provenance": [],
      "collapsed_sections": [],
      "include_colab_link": true
    },
    "kernelspec": {
      "name": "python3",
      "display_name": "Python 3"
    }
  },
  "cells": [
    {
      "cell_type": "markdown",
      "metadata": {
        "id": "view-in-github",
        "colab_type": "text"
      },
      "source": [
        "<a href=\"https://colab.research.google.com/github/ucfilho/etapas_raianars/blob/master/DE_variavel_ETAPA_01_ago_28_2019.ipynb\" target=\"_parent\"><img src=\"https://colab.research.google.com/assets/colab-badge.svg\" alt=\"Open In Colab\"/></a>"
      ]
    },
    {
      "cell_type": "code",
      "metadata": {
        "id": "DhYBZbKGWSve",
        "colab_type": "code",
        "colab": {}
      },
      "source": [
        "import numpy as np"
      ],
      "execution_count": 0,
      "outputs": []
    },
    {
      "cell_type": "code",
      "metadata": {
        "id": "QqHsYZ78UFoE",
        "colab_type": "code",
        "colab": {}
      },
      "source": [
        "def Fun( sol):\n",
        "  #Schwefel(x):\n",
        "  x=sol  \n",
        "  summ=0\n",
        "  for i in range(len(x)):\n",
        "    new=x[i]*np.sin((abs(x[i]))**0.5)\n",
        "    summ=summ+new\n",
        "    top=(418.9829*len(x)-summ) \n",
        "  \n",
        "  return top;"
      ],
      "execution_count": 0,
      "outputs": []
    },
    {
      "cell_type": "code",
      "metadata": {
        "id": "T_ejDzcvWRFT",
        "colab_type": "code",
        "colab": {}
      },
      "source": [
        "def de(MAX,MIN, mut, crossp, popsize, its,fobj,X):\n",
        "  \n",
        "  \n",
        "  Num=len(MAX)\n",
        "  bounds=[(0,0)] * Num\n",
        "  dimensions = len(bounds)  \n",
        "  \n",
        "  for i in range(Num):\n",
        "    bounds[i]=(MIN[i], MAX[i])\n",
        "  \n",
        "  #diff = np.fabs(MIN - MAX)\n",
        "  min_b, max_b = np.asarray(bounds).T\n",
        "  diff = np.fabs(min_b - max_b)\n",
        "  \n",
        "  \n",
        "\n",
        "    \n",
        "  for i in range(popsize):\n",
        "    for j in range(Num):\n",
        "      pop[i,j]=(X[i,j]-MIN[j])/(MAX[j]-MIN[j])\n",
        "\n",
        "  #print(pop[0,:]) \n",
        "  pop_denorm = X\n",
        "  fitness = np.asarray([fobj(ind) for ind in pop_denorm])\n",
        "  best_idx = np.argmin(fitness)\n",
        "  best = pop_denorm[best_idx]\n",
        "  for i in range(its):\n",
        "    for j in range(popsize):\n",
        "      \n",
        "      idxs = [idx for idx in range(popsize) if idx != j]\n",
        "      a, b, c = pop[np.random.choice(idxs, 3, replace = False)]\n",
        "      mutant = np.clip(a + mut * (b - c), 0, 1)\n",
        "      cross_points = np.random.rand(dimensions) < crossp\n",
        "      if not np.any(cross_points):\n",
        "        cross_points[np.random.randint(0, dimensions)] = True\n",
        "      trial = np.where(cross_points, mutant, pop[j])\n",
        "      trial_denorm = min_b + trial * diff\n",
        "      #print(\"=====\",trial,\"******\",trial_denorm )\n",
        "      f = fobj(trial_denorm)\n",
        "      if f < fitness[j]:\n",
        "        fitness[j] = f\n",
        "        pop[j] = trial\n",
        "        if f < fitness[best_idx]:\n",
        "          best_idx = j\n",
        "          best = trial\n",
        "          \n",
        "    pop_denorm = min_b + pop * diff\n",
        "    fitness = np.asarray([fobj(ind) for ind in pop_denorm])\n",
        "\n",
        "  fitness = np.asarray([fobj(ind) for ind in pop_denorm])\n",
        "  best_idx = np.argmin(fitness)\n",
        "  best = pop_denorm[best_idx]\n",
        "  fobj_best = fitness[best_idx]\n",
        "\n",
        "  \n",
        "  y=fitness\n",
        "  #xo=pop\n",
        "  xo = min_b + pop * diff\n",
        "  #xo=pop_denorm estou em duvidas aqui....\n",
        "  BEST=best\n",
        "  FOBEST=fobj_best\n",
        "  XY= np.c_[xo,y] #concatena x e y em 2 colunas            \n",
        "  XYsorted = XY[XY[:,-1].argsort()] #Ordena a partir da last col(Y) for all row\n",
        "  x=XYsorted[:,0:Num]\n",
        "  XY=XYsorted\n",
        "  BEST_XY =np.append(BEST,FOBEST)\n",
        "  #print(pop_denorm)\n",
        "  \n",
        "  return x,BEST,FOBEST,XY,BEST_XY"
      ],
      "execution_count": 0,
      "outputs": []
    },
    {
      "cell_type": "code",
      "metadata": {
        "id": "YDHSz4EORjDw",
        "colab_type": "code",
        "outputId": "dbede1c3-2027-4fd3-fd51-e9a56e9d4cb4",
        "colab": {
          "base_uri": "https://localhost:8080/",
          "height": 260
        }
      },
      "source": [
        "\n",
        "MAX=[500,500,500] # MAXIMO DE CADA PARAMETRO\n",
        "MIN=[-500,-500,-500] # MINIMO DE CADA PARAMETRO\n",
        "PAR=3\n",
        "mut=0.8\n",
        "crossp=0.7\n",
        "NPAR=100\n",
        "ITE=100\n",
        "Freq=10\n",
        "Particulas=[100,50,200,500,50,100,100,100,100,100] \n",
        "NPMAX=500\n",
        "runtime=1\n",
        "its=1\n",
        "runs=ITE\n",
        "\n",
        "dimensions=len(MAX)\n",
        "\n",
        "pop = np.random.rand(NPMAX, dimensions)\n",
        "diff=np.zeros(PAR)\n",
        "for i in range(PAR):\n",
        "  diff[i] = MAX[i]-MIN[i]\n",
        "X = MIN + pop * diff\n",
        "#print(X)\n",
        "k=0\n",
        "for run in range(runs):\n",
        "  if(run%Freq==0):\n",
        "    NPAR=np.copy(Particulas[k])\n",
        "    print(\"Populacao=\",NPAR)\n",
        "    k=k+1\n",
        "  X,BEST,FOBEST,XY,BEST_XY= de(MAX,MIN, mut, crossp, NPAR, its,Fun,X)\n",
        "  #print(\"Iteracao[\",run+1,\"] : GlobalParam e Solucao:\", BEST_XY)\n",
        "\n",
        "print(\"GlobalParam e Solucao final:\", BEST_XY)\n",
        "\n",
        "mean=np.average(FOBEST)\n",
        "\n",
        "\n",
        "print(\"Means of\",runtime,\"runs:\",mean,\"\\n\")"
      ],
      "execution_count": 4,
      "outputs": [
        {
          "output_type": "stream",
          "text": [
            "Populacao= 100\n",
            "Populacao= 50\n",
            "Populacao= 200\n",
            "Populacao= 500\n",
            "Populacao= 50\n",
            "Populacao= 100\n",
            "Populacao= 100\n",
            "Populacao= 100\n",
            "Populacao= 100\n",
            "Populacao= 100\n",
            "GlobalParam e Solucao final: [4.20969685e+02 4.20969693e+02 4.20966577e+02 3.90008036e-05]\n",
            "Means of 1 runs: 3.900080355379032e-05 \n",
            "\n"
          ],
          "name": "stdout"
        }
      ]
    },
    {
      "cell_type": "code",
      "metadata": {
        "id": "kgyluG8GXCxg",
        "colab_type": "code",
        "colab": {
          "base_uri": "https://localhost:8080/",
          "height": 56
        },
        "outputId": "db4f09fc-fab7-4e70-84a1-e22d07bef6da"
      },
      "source": [
        "'''GlobalParam e Solucao final: [4.20971580e+02 4.20959981e+02 4.20966478e+02 4.95386630e-05]\n",
        "Means of 1 runs: 4.953866300638765e-05 '''"
      ],
      "execution_count": 5,
      "outputs": [
        {
          "output_type": "execute_result",
          "data": {
            "text/plain": [
              "'GlobalParam e Solucao final: [4.20971580e+02 4.20959981e+02 4.20966478e+02 4.95386630e-05]\\nMeans of 1 runs: 4.953866300638765e-05 '"
            ]
          },
          "metadata": {
            "tags": []
          },
          "execution_count": 5
        }
      ]
    }
  ]
}