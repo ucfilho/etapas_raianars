{
  "nbformat": 4,
  "nbformat_minor": 0,
  "metadata": {
    "colab": {
      "name": "Raiana_Cauchy_001_out_11_2019.ipynb",
      "provenance": [],
      "collapsed_sections": [],
      "include_colab_link": true
    },
    "kernelspec": {
      "name": "python3",
      "display_name": "Python 3"
    }
  },
  "cells": [
    {
      "cell_type": "markdown",
      "metadata": {
        "id": "view-in-github",
        "colab_type": "text"
      },
      "source": [
        "<a href=\"https://colab.research.google.com/github/ucfilho/etapas_raianars/blob/master/Raiana_Cauchy_001_out_11_2019.ipynb\" target=\"_parent\"><img src=\"https://colab.research.google.com/assets/colab-badge.svg\" alt=\"Open In Colab\"/></a>"
      ]
    },
    {
      "cell_type": "code",
      "metadata": {
        "id": "iPdp4HQcLGfC",
        "colab_type": "code",
        "colab": {}
      },
      "source": [
        "import numpy as np\n",
        "import matplotlib.pyplot as plt\n",
        "from scipy.stats import cauchy"
      ],
      "execution_count": 0,
      "outputs": []
    },
    {
      "cell_type": "code",
      "metadata": {
        "id": "pDP2wDB2QPDG",
        "colab_type": "code",
        "colab": {}
      },
      "source": [
        "# http://web.ipac.caltech.edu/staff/fmasci/home/mystats/CauchyVsGaussian.pdf"
      ],
      "execution_count": 0,
      "outputs": []
    },
    {
      "cell_type": "code",
      "metadata": {
        "id": "wt0rtl-kLXjw",
        "colab_type": "code",
        "colab": {
          "base_uri": "https://localhost:8080/",
          "height": 269
        },
        "outputId": "f8307769-6a0a-45e4-d1cc-8b6231159c70"
      },
      "source": [
        "def uniform_proposal(x, delta=2.0):\n",
        "    return np.random.uniform(x - delta, x + delta)\n",
        "\n",
        "def metropolis_sampler(p, nsamples, proposal=uniform_proposal):\n",
        "    x = 1 # start somewhere\n",
        "\n",
        "    for i in range(nsamples):\n",
        "        trial = proposal(x) # random neighbour from the proposal distribution\n",
        "        acceptance = p(trial)/p(x)\n",
        "\n",
        "        # accept the move conditionally\n",
        "        if np.random.uniform() < acceptance:\n",
        "            x = trial\n",
        "\n",
        "        yield x\n",
        "\n",
        "def cauchy(x, mu, gamma):\n",
        "    return 1./(np.pi*gamma*(1.+((x-mu)/gamma)**2))\n",
        "\n",
        "p = lambda x: cauchy(x, -2, 0.5)\n",
        "samples = list(metropolis_sampler(p, 100000))\n",
        "\n",
        "plt.hist(samples, bins=100)\n",
        "plt.show()\n"
      ],
      "execution_count": 3,
      "outputs": [
        {
          "output_type": "display_data",
          "data": {
            "image/png": "[encoded data removed]",
            "text/plain": [
              "<Figure size 432x288 with 1 Axes>"
            ]
          },
          "metadata": {
            "tags": []
          }
        }
      ]
    },
    {
      "cell_type": "code",
      "metadata": {
        "id": "Ex5gw6QAS0GF",
        "colab_type": "code",
        "colab": {
          "base_uri": "https://localhost:8080/",
          "height": 269
        },
        "outputId": "a87605af-094d-46ca-aee6-4fa8461a79b3"
      },
      "source": [
        "p = lambda x: cauchy(x, 0.5, 0.1)\n",
        "samples = list(metropolis_sampler(p, 100000))\n",
        "\n",
        "plt.hist(samples, bins=100)\n",
        "plt.show()\n"
      ],
      "execution_count": 4,
      "outputs": [
        {
          "output_type": "display_data",
          "data": {
            "image/png": "[encoded data removed]",
            "text/plain": [
              "<Figure size 432x288 with 1 Axes>"
            ]
          },
          "metadata": {
            "tags": []
          }
        }
      ]
    },
    {
      "cell_type": "code",
      "metadata": {
        "id": "jKJGkgPJTWEu",
        "colab_type": "code",
        "colab": {
          "base_uri": "https://localhost:8080/",
          "height": 307
        },
        "outputId": "56c586da-7f41-4063-afcb-fb2a0303da6d"
      },
      "source": [
        "x=np.array(samples)\n",
        "x= x[(x>0) & (x<1)]  # truncate distribution so it plots well\n",
        "plt.hist(x, bins=100)\n",
        "plt.show()\n",
        "print(x[range(10)])"
      ],
      "execution_count": 9,
      "outputs": [
        {
          "output_type": "display_data",
          "data": {
            "image/png": "[encoded data removed]",
            "text/plain": [
              "<Figure size 432x288 with 1 Axes>"
            ]
          },
          "metadata": {
            "tags": []
          }
        },
        {
          "output_type": "stream",
          "text": [
            "[0.64537798 0.64537798 0.64537798 0.45455131 0.44634014 0.44634014\n",
            " 0.59662103 0.59662103 0.59662103 0.59662103]\n"
          ],
          "name": "stdout"
        }
      ]
    },
    {
      "cell_type": "code",
      "metadata": {
        "colab_type": "code",
        "outputId": "91e05999-a702-4dcf-ebea-d064028a183b",
        "id": "zwynG0G-TfjM",
        "colab": {
          "base_uri": "https://localhost:8080/",
          "height": 269
        }
      },
      "source": [
        "p = lambda x: cauchy(x, 0.5, 0.1)\n",
        "samples = list(metropolis_sampler(p, 100000))\n",
        "\n",
        "plt.hist(samples, bins=100)\n",
        "plt.show()\n"
      ],
      "execution_count": 6,
      "outputs": [
        {
          "output_type": "display_data",
          "data": {
            "image/png": "[encoded data removed]",
            "text/plain": [
              "<Figure size 432x288 with 1 Axes>"
            ]
          },
          "metadata": {
            "tags": []
          }
        }
      ]
    },
    {
      "cell_type": "code",
      "metadata": {
        "id": "2loy06gIQriK",
        "colab_type": "code",
        "colab": {
          "base_uri": "https://localhost:8080/",
          "height": 269
        },
        "outputId": "130a6b7b-7ac0-47e7-8b94-3387b503cde1"
      },
      "source": [
        "s = np.random.standard_cauchy(1000000)\n",
        "s = s[(s>-1) & (s<1)]  # truncate distribution so it plots well\n",
        "plt.hist(s, bins=100)\n",
        "plt.show()"
      ],
      "execution_count": 7,
      "outputs": [
        {
          "output_type": "display_data",
          "data": {
            "image/png": "[encoded data removed]",
            "text/plain": [
              "<Figure size 432x288 with 1 Axes>"
            ]
          },
          "metadata": {
            "tags": []
          }
        }
      ]
    },
    {
      "cell_type": "code",
      "metadata": {
        "id": "FU-thnaLL4AR",
        "colab_type": "code",
        "colab": {
          "base_uri": "https://localhost:8080/",
          "height": 36
        },
        "outputId": "650f728b-e80e-46f8-f59e-b3fb1f2b826d"
      },
      "source": [
        "print(np.max(s))\n"
      ],
      "execution_count": 8,
      "outputs": [
        {
          "output_type": "stream",
          "text": [
            "0.9999947394974986\n"
          ],
          "name": "stdout"
        }
      ]
    }
  ]
}