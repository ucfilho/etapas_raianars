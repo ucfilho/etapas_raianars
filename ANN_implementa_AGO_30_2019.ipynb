{
  "nbformat": 4,
  "nbformat_minor": 0,
  "metadata": {
    "colab": {
      "name": "ANN_implementa_AGO_30_2019.ipynb",
      "version": "0.3.2",
      "provenance": [],
      "collapsed_sections": [],
      "include_colab_link": true
    },
    "kernelspec": {
      "name": "python3",
      "display_name": "Python 3"
    }
  },
  "cells": [
    {
      "cell_type": "markdown",
      "metadata": {
        "id": "view-in-github",
        "colab_type": "text"
      },
      "source": [
        "<a href=\"https://colab.research.google.com/github/ucfilho/etapas_raianars/blob/master/ANN_implementa_AGO_30_2019.ipynb\" target=\"_parent\"><img src=\"https://colab.research.google.com/assets/colab-badge.svg\" alt=\"Open In Colab\"/></a>"
      ]
    },
    {
      "cell_type": "code",
      "metadata": {
        "id": "IJMhyBoEZHIU",
        "colab_type": "code",
        "colab": {
          "base_uri": "https://localhost:8080/",
          "height": 108
        },
        "outputId": "c1f02e8e-fc16-41ca-9011-8e60dc5faa05"
      },
      "source": [
        "import numpy as np\n",
        "import pandas as pd\n",
        "import matplotlib.pyplot as plt\n",
        "\n",
        "\n",
        "# este comando clona o diretorio github ucfilho/ANN no colaboratory research\n",
        "!git clone https://github.com/ucfilho/Codigos_Teste\n",
        "%cd Codigos_Teste\n",
        "print(\"Hello world\"+\"\\n\"+\"I'm evolving!!!\"+\"\\n\")\n",
        "\n",
        "%matplotlib inline"
      ],
      "execution_count": 1,
      "outputs": [
        {
          "output_type": "stream",
          "text": [
            "fatal: destination path 'Codigos_Teste' already exists and is not an empty directory.\n",
            "/content/Codigos_Teste\n",
            "Hello world\n",
            "I'm evolving!!!\n",
            "\n"
          ],
          "name": "stdout"
        }
      ]
    },
    {
      "cell_type": "code",
      "metadata": {
        "id": "R2giiZKZcnTD",
        "colab_type": "code",
        "colab": {
          "base_uri": "https://localhost:8080/",
          "height": 126
        },
        "outputId": "580468f4-51f6-4183-98c7-be02f975877b"
      },
      "source": [
        "Arquivo=\"corte_metal_set_08_2017.txt\"\n",
        "DAT=pd.read_csv(Arquivo,sep='\\t')\n",
        "print(DAT.head())"
      ],
      "execution_count": 2,
      "outputs": [
        {
          "output_type": "stream",
          "text": [
            "   Run  Speed  Feed  Hard  TC1  TC2\n",
            "0    1     58  0.10    40  700  595\n",
            "1    2     58  0.10    48  735  635\n",
            "2    3     58  0.10    56  920  792\n",
            "3    4     58  0.12    40  726  632\n",
            "4    5     58  0.12    48  761  672\n"
          ],
          "name": "stdout"
        }
      ]
    },
    {
      "cell_type": "code",
      "metadata": {
        "id": "e0BbmlmvdhVx",
        "colab_type": "code",
        "colab": {}
      },
      "source": [
        "# sigmoid function\n",
        "def sigmoid(x,deriv=False):\n",
        "    if(deriv==True):\n",
        "        return x*(1-x)\n",
        "    return 1/(1+np.exp(-x))\n",
        "\n",
        "# purelin function\n",
        "def purelin(x,deriv=False):\n",
        "    if(deriv==True):\n",
        "        return 1\n",
        "    return x\n",
        "\n",
        "# normatize funcion\n",
        "def normatize(x):\n",
        "    strings=list(x)\n",
        "    for featur in strings:\n",
        "        max_feat=x[featur].max()\n",
        "        min_feat=x[featur].min()\n",
        "        x[featur]=(x[featur]-min_feat)/(max_feat-min_feat)\n",
        "    return x\n",
        "\n",
        "\n",
        "# normatize funcion\n",
        "def original(x,x_old):\n",
        "    strings=list(x)\n",
        "    x_old.columns = list(x)\n",
        "    for featur in strings:\n",
        "        max_feat=x_old[featur].max()\n",
        "        min_feat=x_old[featur].min()\n",
        "        x[featur]=x[featur]*(max_feat-min_feat)+min_feat\n",
        "    return x\n"
      ],
      "execution_count": 0,
      "outputs": []
    },
    {
      "cell_type": "code",
      "metadata": {
        "id": "bUuQEko_dpF2",
        "colab_type": "code",
        "colab": {}
      },
      "source": [
        "# input dataset\n",
        "Neuron_input=3\n",
        "Neuron_hidden=15\n",
        "Neuron_output=1\n",
        "Learning_rate=0.01\n",
        "omega=0.9\n",
        "Epoch=50000"
      ],
      "execution_count": 0,
      "outputs": []
    },
    {
      "cell_type": "code",
      "metadata": {
        "id": "5X0BYxxIdwGp",
        "colab_type": "code",
        "colab": {
          "base_uri": "https://localhost:8080/",
          "height": 126
        },
        "outputId": "60ce02e8-6ccf-4798-a42c-7223c2ea6932"
      },
      "source": [
        "y_old=DAT['TC1']\n",
        "DAT=normatize(DAT)\n",
        "print(DAT.head())"
      ],
      "execution_count": 5,
      "outputs": [
        {
          "output_type": "stream",
          "text": [
            "        Run  Speed  Feed  Hard       TC1       TC2\n",
            "0  0.000000    0.0   0.0   0.0  0.000000  0.000000\n",
            "1  0.038462    0.0   0.0   0.5  0.077778  0.088889\n",
            "2  0.076923    0.0   0.0   1.0  0.488889  0.437778\n",
            "3  0.115385    0.0   0.5   0.0  0.057778  0.082222\n",
            "4  0.153846    0.0   0.5   0.5  0.135556  0.171111\n"
          ],
          "name": "stdout"
        }
      ]
    },
    {
      "cell_type": "code",
      "metadata": {
        "id": "ww1KvVqReAhK",
        "colab_type": "code",
        "colab": {
          "base_uri": "https://localhost:8080/",
          "height": 1000
        },
        "outputId": "fb9f54e8-cd36-4c72-fa44-f2cbddf5c62b"
      },
      "source": [
        "\n",
        "\n",
        "X=DAT.loc[DAT['Speed']==DAT['Speed'],['Speed','Feed','Hard']].values\n",
        "y=DAT.loc[DAT['Speed']==DAT['Speed'],['TC1']].values\n",
        "\n",
        "\n",
        "np.random.seed(1)\n",
        "\n",
        "# randomly initialize our weights with mean 0\n",
        "syn0 = 2*np.random.random((Neuron_input,Neuron_hidden)) - 1\n",
        "syn1 = 2*np.random.random((Neuron_hidden,Neuron_output)) - 1\n",
        "\n",
        "\n",
        "for j in range(Epoch):\n",
        "\n",
        "    # Feed forward through layers 0, 1, and 2\n",
        "    l0 = X\n",
        "    l1 = sigmoid(np.dot(l0,syn0))\n",
        "    l2 = purelin(np.dot(l1,syn1))\n",
        "\n",
        "    # how much did we miss the target value?\n",
        "    l2_error = y - l2\n",
        "\n",
        "    if (j% 500) == 0:\n",
        "        print(\"Epoch %d\"%(j) +\" error:\" + str(np.mean(np.abs(l2_error))))\n",
        "\n",
        "    # in what direction is the target value?\n",
        "    # were we really sure? if so, don't change too much.\n",
        "    l2_delta = l2_error*purelin(l2,deriv=True)\n",
        "    l1_error = l2_delta.dot(syn1.T)\n",
        "    l1_delta = l1_error * sigmoid(l1,deriv=True)\n",
        "\n",
        "    syn1 += l1.T.dot(l2_delta)*Learning_rate\n",
        "    syn0 += l0.T.dot(l1_delta)*Learning_rate\n",
        "\n",
        "DAT=pd.read_csv(Arquivo,sep='\\t')\n",
        "y_obs=y_old\n",
        "y_calc=np.reshape(l2,len(l2))\n",
        "y_calc=pd.DataFrame({'y_calc':y_calc})\n",
        "y_old=pd.DataFrame({'y_old':y_old})\n",
        "y_calc=original(y_calc,y_old)\n",
        "\n",
        "\n",
        "plt.scatter(y_obs,y_calc)\n",
        "plt.xlabel(\"True temperature\")\n",
        "plt.ylabel(\"Estimated temperature\")\n",
        "plt.xlim((600,1200))\n",
        "plt.ylim((600,1200))\n",
        "plt.show()"
      ],
      "execution_count": 6,
      "outputs": [
        {
          "output_type": "stream",
          "text": [
            "Epoch 0 error:1.849002313280778\n",
            "Epoch 500 error:0.08937982106636522\n",
            "Epoch 1000 error:0.08866046200319745\n",
            "Epoch 1500 error:0.08798036831222626\n",
            "Epoch 2000 error:0.08729289516572726\n",
            "Epoch 2500 error:0.08655045175908765\n",
            "Epoch 3000 error:0.08569959325212137\n",
            "Epoch 3500 error:0.08467586700758638\n",
            "Epoch 4000 error:0.08339904171138485\n",
            "Epoch 4500 error:0.08176951626026613\n",
            "Epoch 5000 error:0.07966755228523095\n",
            "Epoch 5500 error:0.07695752038714315\n",
            "Epoch 6000 error:0.07349901528344444\n",
            "Epoch 6500 error:0.0692394916082933\n",
            "Epoch 7000 error:0.06446847782504844\n",
            "Epoch 7500 error:0.05901407016150791\n",
            "Epoch 8000 error:0.05281189494493143\n",
            "Epoch 8500 error:0.046094924062645315\n",
            "Epoch 9000 error:0.039529503094838124\n",
            "Epoch 9500 error:0.03333110512387311\n",
            "Epoch 10000 error:0.028427480668026226\n",
            "Epoch 10500 error:0.025462999018890056\n",
            "Epoch 11000 error:0.023208946638470816\n",
            "Epoch 11500 error:0.022028712415781214\n",
            "Epoch 12000 error:0.02130344584123443\n",
            "Epoch 12500 error:0.02082516868943171\n",
            "Epoch 13000 error:0.020467880488628194\n",
            "Epoch 13500 error:0.020247071817495504\n",
            "Epoch 14000 error:0.02004498009255762\n",
            "Epoch 14500 error:0.019857293139137127\n",
            "Epoch 15000 error:0.019681252707253967\n",
            "Epoch 15500 error:0.01951506428120096\n",
            "Epoch 16000 error:0.019357513779071505\n",
            "Epoch 16500 error:0.019207733889834128\n",
            "Epoch 17000 error:0.019065066654432264\n",
            "Epoch 17500 error:0.018928984103094043\n",
            "Epoch 18000 error:0.01879904261624845\n",
            "Epoch 18500 error:0.018674856452271876\n",
            "Epoch 19000 error:0.01855608205591551\n",
            "Epoch 19500 error:0.01844240842601713\n",
            "Epoch 20000 error:0.018333550918948973\n",
            "Epoch 20500 error:0.01822924703771357\n",
            "Epoch 21000 error:0.018129253403699266\n",
            "Epoch 21500 error:0.018033343462241714\n",
            "Epoch 22000 error:0.01794130566654115\n",
            "Epoch 22500 error:0.017852941990502746\n",
            "Epoch 23000 error:0.017768066679763612\n",
            "Epoch 23500 error:0.017686505183226744\n",
            "Epoch 24000 error:0.017608093226542096\n",
            "Epoch 24500 error:0.01753267600040261\n",
            "Epoch 25000 error:0.017460107443679814\n",
            "Epoch 25500 error:0.017390249606098654\n",
            "Epoch 26000 error:0.01732297207838325\n",
            "Epoch 26500 error:0.017258151480129765\n",
            "Epoch 27000 error:0.01719567099740606\n",
            "Epoch 27500 error:0.017135419963433145\n",
            "Epoch 28000 error:0.017077293476774117\n",
            "Epoch 28500 error:0.017021192052328143\n",
            "Epoch 29000 error:0.016967021301133915\n",
            "Epoch 29500 error:0.016914691635584206\n",
            "Epoch 30000 error:0.016864117997138366\n",
            "Epoch 30500 error:0.01681521960404087\n",
            "Epoch 31000 error:0.016767919716898443\n",
            "Epoch 31500 error:0.016722145420263478\n",
            "Epoch 32000 error:0.016677827418628714\n",
            "Epoch 32500 error:0.016634899845443415\n",
            "Epoch 33000 error:0.016593300083950383\n",
            "Epoch 33500 error:0.016552968598792604\n",
            "Epoch 34000 error:0.016513848777477063\n",
            "Epoch 34500 error:0.01647588678089011\n",
            "Epoch 35000 error:0.016439031402161793\n",
            "Epoch 35500 error:0.016403233933254165\n",
            "Epoch 36000 error:0.01636844803872358\n",
            "Epoch 36500 error:0.01633462963616643\n",
            "Epoch 37000 error:0.016301736782909342\n",
            "Epoch 37500 error:0.016269729568549086\n",
            "Epoch 38000 error:0.016238570012990658\n",
            "Epoch 38500 error:0.01620822196965708\n",
            "Epoch 39000 error:0.016178651033580047\n",
            "Epoch 39500 error:0.01614982445410315\n",
            "Epoch 40000 error:0.016121711051949254\n",
            "Epoch 40500 error:0.016094281140423626\n",
            "Epoch 41000 error:0.016070327796503466\n",
            "Epoch 41500 error:0.016047737995918715\n",
            "Epoch 42000 error:0.016025687514425385\n",
            "Epoch 42500 error:0.01600415487805498\n",
            "Epoch 43000 error:0.015983119585121032\n",
            "Epoch 43500 error:0.015962562059550458\n",
            "Epoch 44000 error:0.015942463606443136\n",
            "Epoch 44500 error:0.015922806369755335\n",
            "Epoch 45000 error:0.015903573292011714\n",
            "Epoch 45500 error:0.0158847480759535\n",
            "Epoch 46000 error:0.01586631514803439\n",
            "Epoch 46500 error:0.015848259623680253\n",
            "Epoch 47000 error:0.015830567274230503\n",
            "Epoch 47500 error:0.01581322449548831\n",
            "Epoch 48000 error:0.015796218277799864\n",
            "Epoch 48500 error:0.0157795361775977\n",
            "Epoch 49000 error:0.01576316629033621\n",
            "Epoch 49500 error:0.01574709722475595\n"
          ],
          "name": "stdout"
        },
        {
          "output_type": "display_data",
          "data": {
            "image/png": "[encoded data removed]",
            "text/plain": [
              "<Figure size 432x288 with 1 Axes>"
            ]
          },
          "metadata": {
            "tags": []
          }
        }
      ]
    },
    {
      "cell_type": "code",
      "metadata": {
        "id": "BIqKuGl_eznL",
        "colab_type": "code",
        "colab": {
          "base_uri": "https://localhost:8080/",
          "height": 508
        },
        "outputId": "79fc898e-e818-4582-94c6-fc60542feb83"
      },
      "source": [
        "print(l0)"
      ],
      "execution_count": 7,
      "outputs": [
        {
          "output_type": "stream",
          "text": [
            "[[0.         0.         0.        ]\n",
            " [0.         0.         0.5       ]\n",
            " [0.         0.         1.        ]\n",
            " [0.         0.5        0.        ]\n",
            " [0.         0.5        0.5       ]\n",
            " [0.         0.5        1.        ]\n",
            " [0.         1.         0.        ]\n",
            " [0.         1.         0.5       ]\n",
            " [0.         1.         1.        ]\n",
            " [0.40350877 0.         0.        ]\n",
            " [0.40350877 0.         0.5       ]\n",
            " [0.40350877 0.         1.        ]\n",
            " [0.40350877 0.5        0.        ]\n",
            " [0.40350877 0.5        0.5       ]\n",
            " [0.40350877 0.5        1.        ]\n",
            " [0.40350877 1.         0.        ]\n",
            " [0.40350877 1.         0.5       ]\n",
            " [0.40350877 1.         1.        ]\n",
            " [1.         0.         0.        ]\n",
            " [1.         0.         0.5       ]\n",
            " [1.         0.         1.        ]\n",
            " [1.         0.5        0.        ]\n",
            " [1.         0.5        0.5       ]\n",
            " [1.         0.5        1.        ]\n",
            " [1.         1.         0.        ]\n",
            " [1.         1.         0.5       ]\n",
            " [1.         1.         1.        ]]\n"
          ],
          "name": "stdout"
        }
      ]
    },
    {
      "cell_type": "code",
      "metadata": {
        "id": "zSDahcbse6iM",
        "colab_type": "code",
        "colab": {
          "base_uri": "https://localhost:8080/",
          "height": 1000
        },
        "outputId": "dcb703a2-8597-44d7-e533-4488463c4c1b"
      },
      "source": [
        "print(l1)"
      ],
      "execution_count": 8,
      "outputs": [
        {
          "output_type": "stream",
          "text": [
            "[[0.5        0.5        0.5        0.5        0.5        0.5\n",
            "  0.5        0.5        0.5        0.5        0.5        0.5\n",
            "  0.5        0.5        0.5       ]\n",
            " [0.39507828 0.55856611 0.65760583 0.47993735 0.49353164 0.43430361\n",
            "  0.59778122 0.56139917 0.36501921 0.56320387 0.84307364 0.6079014\n",
            "  0.45980501 0.57778943 0.31386088]\n",
            " [0.29900713 0.61554693 0.7867233  0.45993919 0.48706545 0.3708371\n",
            "  0.68835873 0.62097412 0.24837656 0.62441964 0.96651358 0.7061999\n",
            "  0.42012621 0.65190211 0.17303606]\n",
            " [0.52431033 0.50941196 0.52136159 0.44924917 0.4674794  0.53699753\n",
            "  0.56117846 0.44678841 0.53364034 0.55017646 0.53280508 0.41237924\n",
            "  0.45975336 0.44033866 0.58659344]\n",
            " [0.41855768 0.56782852 0.67658932 0.42947376 0.46104382 0.47101938\n",
            "  0.65524492 0.508296   0.39678483 0.61196007 0.85968628 0.52107775\n",
            "  0.42007555 0.518471   0.39359393]\n",
            " [0.3197954  0.62441766 0.80071747 0.40992093 0.4546212  0.40603857\n",
            "  0.73854185 0.56955346 0.27437759 0.67034236 0.97051555 0.62781637\n",
            "  0.38140455 0.59571035 0.22893039]\n",
            " [0.548506   0.51881726 0.54264534 0.39953341 0.43523279 0.57359212\n",
            "  0.62055211 0.39476867 0.56697749 0.59935237 0.56532893 0.32997973\n",
            "  0.4200249  0.38235238 0.66814363]\n",
            " [0.44241194 0.57704374 0.69500845 0.38043475 0.42888361 0.50805144\n",
            "  0.70850225 0.45500496 0.42944525 0.65857323 0.87480143 0.43296175\n",
            "  0.38135549 0.45862729 0.47942921]\n",
            " [0.34132522 0.63320568 0.8140105  0.36169912 0.42255775 0.44223282\n",
            "  0.78318927 0.51658743 0.30200685 0.7132288  0.97405209 0.54208072\n",
            "  0.34413375 0.53689164 0.29640833]\n",
            " [0.48262936 0.53520163 0.42476253 0.47424763 0.45091828 0.43099114\n",
            "  0.45795594 0.46712327 0.49886694 0.49466179 0.48765465 0.53555831\n",
            "  0.48143647 0.56931265 0.34889206]\n",
            " [0.37859272 0.59300081 0.58646974 0.45427947 0.44452037 0.36769406\n",
            "  0.55666906 0.52875462 0.36396938 0.55794386 0.83642787 0.64129129\n",
            "  0.44141633 0.64399648 0.19685886]\n",
            " [0.28464404 0.64833518 0.7314582  0.4344573  0.43814081 0.30865053\n",
            "  0.65110118 0.58952158 0.24753142 0.61939864 0.96487766 0.73486984\n",
            "  0.40214307 0.71227481 0.10081751]\n",
            " [0.50695143 0.54455454 0.44577552 0.42389467 0.41891537 0.46765837\n",
            "  0.51933332 0.41450992 0.53251224 0.54488634 0.52049292 0.44728052\n",
            "  0.44136507 0.50981364 0.43192232]\n",
            " [0.40174305 0.60205545 0.60704046 0.4044158  0.41263031 0.40278818\n",
            "  0.6162356  0.47539243 0.39570057 0.60687737 0.8536219  0.55646677\n",
            "  0.40209308 0.58733638 0.25804723]\n",
            " [0.30486802 0.65687109 0.74791668 0.38523348 0.4063736  0.34114976\n",
            "  0.70471016 0.5370153  0.27347617 0.66560651 0.96906888 0.66045761\n",
            "  0.36403832 0.66075718 0.13725561]\n",
            " [0.53124065 0.55387613 0.46698414 0.3750739  0.38758054 0.50467829\n",
            "  0.58013266 0.36377708 0.56586442 0.59421404 0.55315506 0.36220582\n",
            "  0.40204309 0.45003529 0.51896291]\n",
            " [0.42534004 0.61104077 0.62723831 0.35645039 0.38145699 0.4389068\n",
            "  0.67250718 0.42258631 0.42833511 0.65375563 0.86929099 0.46821701\n",
            "  0.36399019 0.52826414 0.33042964]\n",
            " [0.32587434 0.66530678 0.76369232 0.33825108 0.37537088 0.37521378\n",
            "  0.75320425 0.4836751  0.30105231 0.70884146 0.97277407 0.5771771\n",
            "  0.32756592 0.60512901 0.18416605]\n",
            " [0.45703987 0.58650445 0.32048599 0.43646766 0.38033627 0.33437087\n",
            "  0.39705023 0.41912185 0.49719201 0.48677311 0.46943693 0.587366\n",
            "  0.45410314 0.6663121  0.17563306]\n",
            " [0.35473721 0.64218912 0.47529608 0.41682905 0.37425723 0.27832297\n",
            "  0.49461461 0.48012626 0.36241981 0.55014466 0.82619155 0.68817188\n",
            "  0.4145388  0.73209099 0.08880214]\n",
            " [0.26419152 0.69428367 0.63500446 0.39745087 0.36821761 0.22844558\n",
            "  0.59259086 0.5417291  0.24628562 0.61192956 0.96231757 0.7738336\n",
            "  0.37604698 0.78900908 0.04267703]\n",
            " [0.48127197 0.59560506 0.33938392 0.387172   0.35014829 0.36813622\n",
            "  0.45714914 0.3681795  0.530844   0.53704792 0.50225104 0.49973719\n",
            "  0.41448834 0.61105863 0.23213081]\n",
            " [0.37731454 0.65079386 0.4966506  0.36830181 0.34428367 0.30905639\n",
            "  0.55586669 0.42722253 0.39409962 0.59932152 0.84426123 0.6076508\n",
            "  0.37599819 0.68254008 0.12148428]\n",
            " [0.28353832 0.70221655 0.65458284 0.34982633 0.33846612 0.25562221\n",
            "  0.65036237 0.48841462 0.27214702 0.65854434 0.96680378 0.70598174\n",
            "  0.3390128  0.74633783 0.05949193]\n",
            " [0.50559248 0.60464038 0.35880778 0.34008397 0.32111471 0.40324563\n",
            "  0.51852182 0.32001777 0.56421781 0.58658059 0.53504576 0.41212452\n",
            "  0.37594941 0.5527966  0.30018482]\n",
            " [0.40043708 0.65930146 0.51801735 0.32230178 0.31550029 0.34157725\n",
            "  0.61546656 0.37593279 0.42669536 0.64657607 0.86076891 0.5208154\n",
            "  0.33896621 0.62847543 0.1640293 ]\n",
            " [0.30371709 0.71002955 0.67365076 0.30501962 0.30993921 0.2848383\n",
            "  0.70403327 0.43536242 0.29964442 0.70228396 0.97077212 0.6275707\n",
            "  0.30384975 0.69833615 0.08236198]]\n"
          ],
          "name": "stdout"
        }
      ]
    },
    {
      "cell_type": "code",
      "metadata": {
        "id": "PWQX20WRe-d_",
        "colab_type": "code",
        "colab": {
          "base_uri": "https://localhost:8080/",
          "height": 508
        },
        "outputId": "653b536f-a559-4d04-a48d-96dac4a0d54c"
      },
      "source": [
        "print(l2)"
      ],
      "execution_count": 9,
      "outputs": [
        {
          "output_type": "stream",
          "text": [
            "[[0.00667795]\n",
            " [0.05333352]\n",
            " [0.48605846]\n",
            " [0.07297808]\n",
            " [0.13818066]\n",
            " [0.57253568]\n",
            " [0.13675293]\n",
            " [0.2185441 ]\n",
            " [0.64584548]\n",
            " [0.08830623]\n",
            " [0.15181976]\n",
            " [0.61566706]\n",
            " [0.15017451]\n",
            " [0.2262156 ]\n",
            " [0.69825533]\n",
            " [0.21463355]\n",
            " [0.29725779]\n",
            " [0.76313991]\n",
            " [0.24871576]\n",
            " [0.32802007]\n",
            " [0.80453656]\n",
            " [0.28665765]\n",
            " [0.38769241]\n",
            " [0.89106562]\n",
            " [0.32937654]\n",
            " [0.43891243]\n",
            " [0.9530685 ]]\n"
          ],
          "name": "stdout"
        }
      ]
    }
  ]
}